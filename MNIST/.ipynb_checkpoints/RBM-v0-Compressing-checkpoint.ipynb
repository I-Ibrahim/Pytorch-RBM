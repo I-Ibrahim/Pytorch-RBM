{
 "cells": [
  {
   "cell_type": "code",
   "execution_count": 90,
   "metadata": {},
   "outputs": [],
   "source": [
    "import numpy as np\n",
    "import torch\n",
    "import torch.utils.data\n",
    "import torch.nn as nn\n",
    "import torch.nn.functional as F\n",
    "import torch.optim as optim\n",
    "from torch.autograd import Variable\n",
    "from torchvision import datasets, transforms\n",
    "from torchvision.utils import make_grid , save_image"
   ]
  },
  {
   "cell_type": "markdown",
   "metadata": {},
   "source": [
    "# Load data"
   ]
  },
  {
   "cell_type": "code",
   "execution_count": 91,
   "metadata": {
    "collapsed": true
   },
   "outputs": [],
   "source": [
    "batch_size = 64\n",
    "train_loader = torch.utils.data.DataLoader(\n",
    "    datasets.MNIST('../data', train=True, download=False,\n",
    "                   transform=transforms.Compose([\n",
    "                       transforms.ToTensor()\n",
    "                   ])),\n",
    "    batch_size=batch_size)\n",
    "\n",
    "test_loader = torch.utils.data.DataLoader(\n",
    "    datasets.MNIST('../data', train=False, transform=transforms.Compose([\n",
    "                       transforms.ToTensor()\n",
    "                   ])),\n",
    "    batch_size=batch_size)"
   ]
  },
  {
   "cell_type": "markdown",
   "metadata": {},
   "source": [
    "# Train"
   ]
  },
  {
   "cell_type": "code",
   "execution_count": 3,
   "metadata": {
    "collapsed": true
   },
   "outputs": [],
   "source": [
    "class RBM(nn.Module):\n",
    "    def __init__(self,\n",
    "                 n_vis=784,\n",
    "                 n_hin=625,\n",
    "                 k=5):\n",
    "        super(RBM, self).__init__()\n",
    "        self.W = nn.Parameter(torch.randn(n_hin,n_vis)*1e-2)\n",
    "        self.v_bias = nn.Parameter(torch.zeros(n_vis))\n",
    "        self.h_bias = nn.Parameter(torch.zeros(n_hin))\n",
    "        self.k = k\n",
    "    \n",
    "    def sample_from_p(self,p):\n",
    "        return F.relu(torch.sign(p - Variable(torch.rand(p.size()))))\n",
    "    \n",
    "    def v_to_h(self,v):\n",
    "        p_h = F.sigmoid(F.linear(v,self.W,self.h_bias))\n",
    "        sample_h = self.sample_from_p(p_h)\n",
    "        return p_h,sample_h\n",
    "    \n",
    "    def h_to_v(self,h):\n",
    "        p_v = F.sigmoid(F.linear(h,self.W.t(),self.v_bias))\n",
    "        sample_v = self.sample_from_p(p_v)\n",
    "        return p_v,sample_v\n",
    "        \n",
    "    def forward(self,v):\n",
    "        pre_h1,h1 = self.v_to_h(v)\n",
    "        \n",
    "        h_ = h1\n",
    "        for _ in range(self.k):\n",
    "            pre_v_,v_ = self.h_to_v(h_)\n",
    "            pre_h_,h_ = self.v_to_h(v_)\n",
    "        \n",
    "        return v,v_, h_\n",
    "    \n",
    "    def free_energy(self,v):\n",
    "        vbias_term = v.mv(self.v_bias)\n",
    "        wx_b = F.linear(v,self.W,self.h_bias)\n",
    "        hidden_term = wx_b.exp().add(1).log().sum(1)\n",
    "        return (-hidden_term - vbias_term).mean()"
   ]
  },
  {
   "cell_type": "code",
   "execution_count": 4,
   "metadata": {
    "collapsed": true
   },
   "outputs": [],
   "source": [
    "rbm = RBM(k=3)\n",
    "\n",
    "\n",
    "train_op = optim.SGD(rbm.parameters(),0.1)"
   ]
  },
  {
   "cell_type": "code",
   "execution_count": 5,
   "metadata": {
    "scrolled": true
   },
   "outputs": [
    {
     "name": "stdout",
     "output_type": "stream",
     "text": [
      " loss: Variable containing:\n",
      " 0.1076\n",
      "[torch.FloatTensor of size 1]\n",
      "\n",
      "-4.20907781475\n",
      " loss: Variable containing:\n",
      "1.00000e-02 *\n",
      "  7.8435\n",
      "[torch.FloatTensor of size 1]\n",
      "\n",
      "-5.6955893055\n",
      " loss: Variable containing:\n",
      "1.00000e-02 *\n",
      "  7.1444\n",
      "[torch.FloatTensor of size 1]\n",
      "\n",
      "-3.61564197012\n",
      " loss: Variable containing:\n",
      "1.00000e-02 *\n",
      "  6.7732\n",
      "[torch.FloatTensor of size 1]\n",
      "\n",
      "-2.31958375455\n"
     ]
    }
   ],
   "source": [
    "newdata=[]\n",
    "for epoch in range(4):\n",
    "    loss_ = []\n",
    "    reconstruction_error=0\n",
    "    s=0\n",
    "    for _, (data,target) in enumerate(train_loader):\n",
    "        data = Variable(data.view(-1,784))\n",
    "        sample_data = data.bernoulli()\n",
    "        \n",
    "        v,v1,h1 = rbm(sample_data)\n",
    "        loss = rbm.free_energy(v) - rbm.free_energy(v1)\n",
    "        loss_.append(loss.data[0])\n",
    "        train_op.zero_grad()\n",
    "        loss.backward()\n",
    "        train_op.step()\n",
    "        reconstruction_error+=torch.mean(torch.abs(v-v1))\n",
    "        s+=1\n",
    "    print (' loss: ' + str(reconstruction_error/s)) \n",
    "       # newdata.append([h_, target])\n",
    "    \n",
    "    print (np.mean(loss_))"
   ]
  },
  {
   "cell_type": "markdown",
   "metadata": {},
   "source": [
    "# Visualising Results"
   ]
  },
  {
   "cell_type": "code",
   "execution_count": 6,
   "metadata": {
    "collapsed": true
   },
   "outputs": [],
   "source": [
    "%matplotlib inline\n",
    "import matplotlib.pyplot as plt\n",
    "\n",
    "def show_adn_save(file_name,img):\n",
    "    npimg = np.transpose(img.numpy(),(1,2,0))\n",
    "    f = \"./%s.png\" % file_name\n",
    "    plt.imshow(npimg)\n",
    "    plt.imsave(f,npimg)"
   ]
  },
  {
   "cell_type": "code",
   "execution_count": 7,
   "metadata": {},
   "outputs": [
    {
     "data": {
      "image/png": "[encoded data removed]",
      "text/plain": [
       "<matplotlib.figure.Figure at 0x166d68b70>"
      ]
     },
     "metadata": {},
     "output_type": "display_data"
    }
   ],
   "source": [
    "show_adn_save(\"real\",make_grid(v.view(32,1,28,28).data))"
   ]
  },
  {
   "cell_type": "code",
   "execution_count": 8,
   "metadata": {
    "scrolled": true
   },
   "outputs": [
    {
     "data": {
      "image/png": "[encoded data removed]",
      "text/plain": [
       "<matplotlib.figure.Figure at 0x1075c4240>"
      ]
     },
     "metadata": {},
     "output_type": "display_data"
    }
   ],
   "source": [
    "show_adn_save(\"generate\",make_grid(v1.view(32,1,28,28).data))"
   ]
  },
  {
   "cell_type": "code",
   "execution_count": 9,
   "metadata": {},
   "outputs": [
    {
     "data": {
      "text/plain": [
       "Parameter containing:\n",
       "-2.1626e-02 -5.9492e-02 -4.8467e-02  ...  -2.3189e-02 -2.5872e-02 -6.1980e-02\n",
       "-2.8092e-02 -6.3813e-02 -4.8472e-02  ...  -5.0941e-02 -3.2866e-02 -5.3731e-02\n",
       "-3.6855e-02 -4.6960e-02 -4.5223e-02  ...  -5.3044e-02 -3.4535e-02 -5.1768e-02\n",
       "                ...                   ⋱                   ...                \n",
       "-4.2306e-02 -5.8476e-02 -3.6201e-02  ...  -5.3125e-02 -4.2755e-02 -5.3505e-02\n",
       "-4.9086e-02 -5.4652e-02 -6.1651e-02  ...  -7.3536e-02 -6.2606e-02 -6.0412e-02\n",
       "-6.5620e-02 -6.0880e-02 -5.8648e-02  ...  -7.9180e-02 -7.4321e-02 -7.1190e-02\n",
       "[torch.FloatTensor of size 625x784]"
      ]
     },
     "execution_count": 9,
     "metadata": {},
     "output_type": "execute_result"
    }
   ],
   "source": [
    "rbm.W"
   ]
  },
  {
   "cell_type": "markdown",
   "metadata": {},
   "source": [
    "# Manipulating data"
   ]
  },
  {
   "cell_type": "code",
   "execution_count": 10,
   "metadata": {
    "collapsed": true
   },
   "outputs": [],
   "source": [
    "full=[]\n",
    "for _, (data,target) in enumerate(train_loader):\n",
    "        data=data.view(-1,784)\n",
    "        data=data.numpy()\n",
    "        full.append(data)"
   ]
  },
  {
   "cell_type": "code",
   "execution_count": 11,
   "metadata": {
    "collapsed": true
   },
   "outputs": [],
   "source": [
    "full_np=np.array(full[104:105])"
   ]
  },
  {
   "cell_type": "code",
   "execution_count": 12,
   "metadata": {
    "collapsed": true
   },
   "outputs": [],
   "source": [
    "full_T=torch.Tensor(full_np)"
   ]
  },
  {
   "cell_type": "code",
   "execution_count": 13,
   "metadata": {
    "collapsed": true
   },
   "outputs": [],
   "source": [
    "full_T=full_T.view(64,784)\n",
    "full_T=Variable(full_T)\n",
    "full_T=full_T.bernoulli()"
   ]
  },
  {
   "cell_type": "markdown",
   "metadata": {},
   "source": [
    "# Testing it"
   ]
  },
  {
   "cell_type": "code",
   "execution_count": 87,
   "metadata": {},
   "outputs": [
    {
     "name": "stdout",
     "output_type": "stream",
     "text": [
      " loss: Variable containing:\n",
      "1.00000e-02 *\n",
      "  9.2634\n",
      "[torch.FloatTensor of size 1]\n",
      "\n"
     ]
    }
   ],
   "source": [
    "test_loss = 0\n",
    "s=0\n",
    "for n in range(0,len(full_T)):\n",
    "    \n",
    "    sample_data = full_T[n:n+1]\n",
    "\n",
    "    v,v1,h1 = rbm(sample_data)\n",
    "    test_loss+=torch.mean(torch.abs(v-v1))\n",
    "    s+=1\n",
    "print (' loss: ' + str(test_loss/s)) "
   ]
  },
  {
   "cell_type": "code",
   "execution_count": 88,
   "metadata": {},
   "outputs": [
    {
     "data": {
      "image/png": "[encoded data removed]",
      "text/plain": [
       "<matplotlib.figure.Figure at 0x18f803e80>"
      ]
     },
     "metadata": {},
     "output_type": "display_data"
    }
   ],
   "source": [
    "show_adn_save(\"real\",make_grid(v.view(1,28,28).data))"
   ]
  },
  {
   "cell_type": "code",
   "execution_count": 89,
   "metadata": {
    "scrolled": true
   },
   "outputs": [
    {
     "data": {
      "image/png": "[encoded data removed]",
      "text/plain": [
       "<matplotlib.figure.Figure at 0x17da19e48>"
      ]
     },
     "metadata": {},
     "output_type": "display_data"
    }
   ],
   "source": [
    "show_adn_save(\"generate\",make_grid(v1.view(1,28,28).data))"
   ]
  },
  {
   "cell_type": "code",
   "execution_count": 17,
   "metadata": {},
   "outputs": [
    {
     "data": {
      "text/plain": [
       "Parameter containing:\n",
       "-2.1626e-02 -5.9492e-02 -4.8467e-02  ...  -2.3189e-02 -2.5872e-02 -6.1980e-02\n",
       "-2.8092e-02 -6.3813e-02 -4.8472e-02  ...  -5.0941e-02 -3.2866e-02 -5.3731e-02\n",
       "-3.6855e-02 -4.6960e-02 -4.5223e-02  ...  -5.3044e-02 -3.4535e-02 -5.1768e-02\n",
       "                ...                   ⋱                   ...                \n",
       "-4.2306e-02 -5.8476e-02 -3.6201e-02  ...  -5.3125e-02 -4.2755e-02 -5.3505e-02\n",
       "-4.9086e-02 -5.4652e-02 -6.1651e-02  ...  -7.3536e-02 -6.2606e-02 -6.0412e-02\n",
       "-6.5620e-02 -6.0880e-02 -5.8648e-02  ...  -7.9180e-02 -7.4321e-02 -7.1190e-02\n",
       "[torch.FloatTensor of size 625x784]"
      ]
     },
     "execution_count": 17,
     "metadata": {},
     "output_type": "execute_result"
    }
   ],
   "source": [
    "rbm.W"
   ]
  },
  {
   "cell_type": "markdown",
   "metadata": {
    "collapsed": true
   },
   "source": [
    "# Manipulating weights"
   ]
  },
  {
   "cell_type": "code",
   "execution_count": 31,
   "metadata": {
    "collapsed": true
   },
   "outputs": [],
   "source": [
    "from scipy import stats, integrate\n",
    "import matplotlib.pyplot as plt\n",
    "#import pandas as pd\n",
    "\n",
    "\n",
    "import seaborn as sns\n",
    "sns.set(color_codes=True)"
   ]
  },
  {
   "cell_type": "code",
   "execution_count": 19,
   "metadata": {},
   "outputs": [
    {
     "data": {
      "text/plain": [
       "Parameter containing:\n",
       "-2.1626e-02 -5.9492e-02 -4.8467e-02  ...  -2.3189e-02 -2.5872e-02 -6.1980e-02\n",
       "-2.8092e-02 -6.3813e-02 -4.8472e-02  ...  -5.0941e-02 -3.2866e-02 -5.3731e-02\n",
       "-3.6855e-02 -4.6960e-02 -4.5223e-02  ...  -5.3044e-02 -3.4535e-02 -5.1768e-02\n",
       "                ...                   ⋱                   ...                \n",
       "-4.2306e-02 -5.8476e-02 -3.6201e-02  ...  -5.3125e-02 -4.2755e-02 -5.3505e-02\n",
       "-4.9086e-02 -5.4652e-02 -6.1651e-02  ...  -7.3536e-02 -6.2606e-02 -6.0412e-02\n",
       "-6.5620e-02 -6.0880e-02 -5.8648e-02  ...  -7.9180e-02 -7.4321e-02 -7.1190e-02\n",
       "[torch.FloatTensor of size 625x784]"
      ]
     },
     "execution_count": 19,
     "metadata": {},
     "output_type": "execute_result"
    }
   ],
   "source": [
    "rbm.W"
   ]
  },
  {
   "cell_type": "code",
   "execution_count": 20,
   "metadata": {
    "collapsed": true
   },
   "outputs": [],
   "source": [
    "weights=rbm.W\n",
    "weights=weights.data.numpy()"
   ]
  },
  {
   "cell_type": "code",
   "execution_count": 21,
   "metadata": {},
   "outputs": [
    {
     "data": {
      "text/plain": [
       "(625, 784)"
      ]
     },
     "execution_count": 21,
     "metadata": {},
     "output_type": "execute_result"
    }
   ],
   "source": [
    "weights.shape"
   ]
  },
  {
   "cell_type": "code",
   "execution_count": 28,
   "metadata": {
    "collapsed": true,
    "scrolled": false
   },
   "outputs": [],
   "source": [
    "#for arr in weights: #do not need the loop at this point, but looks prettier\n",
    " #   print(stats.describe(arr))"
   ]
  },
  {
   "cell_type": "code",
   "execution_count": 23,
   "metadata": {},
   "outputs": [
    {
     "data": {
      "text/plain": [
       "array([-0.02162623, -0.05949204, -0.04846678, -0.05254259, -0.02687877,\n",
       "       -0.02457735, -0.03945683, -0.03849166, -0.04576602, -0.05094021,\n",
       "       -0.01732091, -0.04568802, -0.06117537, -0.02948843, -0.03891075,\n",
       "       -0.02280524, -0.03631545, -0.0248472 , -0.03485002, -0.04209181,\n",
       "       -0.01957092, -0.04027197, -0.04092849, -0.02702058, -0.04268187,\n",
       "       -0.03089072, -0.0343824 , -0.03057875, -0.04316226, -0.05811743,\n",
       "       -0.02309716, -0.03688357, -0.04264528, -0.02375739, -0.0407495 ,\n",
       "       -0.05209143, -0.03953284, -0.04312039, -0.01833895, -0.02155385,\n",
       "        0.00227797, -0.00104859,  0.0013931 ,  0.00722784, -0.01961834,\n",
       "       -0.01609674, -0.04181338, -0.02438369, -0.02540226, -0.03220984,\n",
       "       -0.0535091 , -0.03458437, -0.03432531, -0.04883199, -0.03290539,\n",
       "       -0.02465007, -0.02952241, -0.03231496, -0.03927098, -0.04159999,\n",
       "       -0.01980883, -0.01986952, -0.02666369, -0.02553007, -0.04080012,\n",
       "       -0.03272174,  0.00189088, -0.00928133, -0.02056409, -0.0003769 ,\n",
       "        0.01726217, -0.00373782,  0.00806494,  0.02123806,  0.02620404,\n",
       "        0.01564342, -0.02352957, -0.02004361, -0.04562941, -0.03847835,\n",
       "       -0.02957831, -0.04125218, -0.03023261, -0.0457155 , -0.03784551,\n",
       "       -0.01507394, -0.02907031, -0.04229911, -0.02490277, -0.05509806,\n",
       "       -0.02986296, -0.03501445, -0.02681436, -0.02276814,  0.0122298 ,\n",
       "       -0.00749028,  0.00168561,  0.01764759, -0.01748527, -0.0463497 ,\n",
       "       -0.03789141, -0.06570385, -0.01688711, -0.0106697 ,  0.00164198,\n",
       "       -0.03093021, -0.04322718, -0.01613552, -0.05059315, -0.03655082,\n",
       "       -0.04264151, -0.03801969, -0.0215208 , -0.05307211, -0.01939644,\n",
       "       -0.03515233, -0.01180058, -0.03294517, -0.02668153, -0.02336175,\n",
       "       -0.01341434, -0.02712781, -0.00636946,  0.0099215 ,  0.06758883,\n",
       "        0.0945366 ,  0.06112074,  0.04390149,  0.00047845, -0.0565384 ,\n",
       "       -0.07264084, -0.03462003, -0.02989065, -0.01862381, -0.02736877,\n",
       "       -0.02713485, -0.02099684, -0.02168637, -0.03026427, -0.04215373,\n",
       "       -0.03526051, -0.06237467, -0.02143269, -0.04072559, -0.02895238,\n",
       "       -0.01750817, -0.00622039, -0.01055448, -0.01222833, -0.02304274,\n",
       "       -0.03727186, -0.01668998,  0.00902481,  0.0204164 , -0.00896228,\n",
       "        0.00986671,  0.06048431,  0.02079677, -0.03243967, -0.05441247,\n",
       "       -0.02298956,  0.00733347, -0.02582194, -0.03616847, -0.00683586,\n",
       "        0.00309654, -0.03018024, -0.04230359, -0.03030191, -0.04414692,\n",
       "       -0.05166539, -0.02837614, -0.02701648, -0.00120472, -0.00119807,\n",
       "        0.00548565, -0.00498287, -0.03508401, -0.07634412, -0.08458117,\n",
       "       -0.08545539, -0.06444267, -0.08762052, -0.02298172,  0.05438623,\n",
       "        0.02084801, -0.03117847, -0.02725749, -0.00627109,  0.01209625,\n",
       "       -0.03731122, -0.0352385 , -0.0231096 , -0.00885094, -0.0104869 ,\n",
       "       -0.03435368, -0.03848233, -0.03046556, -0.01149991, -0.01569301,\n",
       "       -0.01530517, -0.02773766,  0.00316447, -0.00289504, -0.04886524,\n",
       "       -0.08901494, -0.0884853 , -0.06996625, -0.0742816 , -0.03690927,\n",
       "       -0.0271136 , -0.01198236, -0.00843516, -0.08874185, -0.08539273,\n",
       "       -0.0137229 , -0.01232287,  0.00836728, -0.04932668, -0.01316269,\n",
       "       -0.00655654, -0.01400826, -0.02398551, -0.02696437, -0.03890385,\n",
       "       -0.04626849, -0.02123295, -0.03035914, -0.03416143, -0.01395186,\n",
       "       -0.00585375, -0.00224192, -0.04750335, -0.04421004, -0.01801158,\n",
       "       -0.02960243, -0.04686938,  0.00536199,  0.03032591, -0.01113054,\n",
       "       -0.07917256, -0.1533176 , -0.09578367, -0.01428175, -0.04835408,\n",
       "       -0.03436313, -0.02964555,  0.00615541,  0.02370583,  0.02407482,\n",
       "        0.00637227, -0.03859875, -0.02938533, -0.02270529, -0.04133032,\n",
       "       -0.02586491, -0.03602194,  0.00145222,  0.00330789, -0.0246889 ,\n",
       "       -0.0618938 , -0.00588264,  0.05670761, -0.00371531, -0.05886046,\n",
       "        0.00180996,  0.02306411, -0.04407715, -0.13403614, -0.17601085,\n",
       "       -0.05151745,  0.01922191, -0.04551651, -0.04505931,  0.01414122,\n",
       "        0.02783924,  0.03952527,  0.03623507, -0.01323009, -0.02503665,\n",
       "       -0.0297394 , -0.03783232, -0.04514571, -0.03348622, -0.02763378,\n",
       "        0.02441904,  0.02586803, -0.02862884, -0.02739023,  0.02701086,\n",
       "        0.05688079, -0.04286285, -0.11408977, -0.02821464,  0.01951615,\n",
       "       -0.04533946, -0.17325537, -0.12197057,  0.02975733,  0.05879935,\n",
       "       -0.06065801, -0.03009271,  0.03151339,  0.03338771,  0.0262846 ,\n",
       "        0.00633703, -0.02378445, -0.05009837, -0.05047269, -0.0288284 ,\n",
       "       -0.03408234, -0.02030772,  0.0033873 ,  0.02951651,  0.01581098,\n",
       "       -0.05023904, -0.05455948,  0.02920754,  0.07743455, -0.02761487,\n",
       "       -0.11725536, -0.04075834,  0.05068687, -0.06112776, -0.13575009,\n",
       "       -0.06333137,  0.06510523,  0.02255847, -0.05188673, -0.04028565,\n",
       "       -0.00671574,  0.04010317,  0.01673134,  0.01630958, -0.01568885,\n",
       "       -0.04223225, -0.04233641, -0.04184305, -0.03630107, -0.00892699,\n",
       "       -0.00623451,  0.01460179, -0.00749344, -0.0655614 , -0.1000985 ,\n",
       "        0.01859136,  0.06837632, -0.00956135, -0.12112575, -0.01861573,\n",
       "        0.07319353, -0.03635682, -0.12235261, -0.03497603,  0.02824091,\n",
       "       -0.00283173, -0.07398717, -0.05076905, -0.02521983, -0.00576284,\n",
       "        0.01528967, -0.00400028, -0.02567935, -0.02875945, -0.01216384,\n",
       "       -0.04422401, -0.03104006, -0.01668086, -0.00637274,  0.00240822,\n",
       "       -0.03163949, -0.08995166, -0.06327171,  0.01765753,  0.04733499,\n",
       "       -0.06971055, -0.14833419,  0.01330663,  0.12192456, -0.05416918,\n",
       "       -0.11497653, -0.03732733,  0.00914742, -0.0271575 , -0.04317825,\n",
       "       -0.03733712, -0.02257875, -0.02083023, -0.01702509, -0.00819349,\n",
       "       -0.03283404, -0.03899725, -0.02045381, -0.05198081, -0.02754697,\n",
       "       -0.02948601, -0.02705729, -0.01202497, -0.03787994, -0.05549361,\n",
       "       -0.02598217,  0.08269207,  0.00199781, -0.13741656, -0.13495052,\n",
       "        0.06520016,  0.15941112, -0.0605871 , -0.15802746, -0.05272149,\n",
       "        0.01105511, -0.04653614, -0.02697978, -0.01719533, -0.01646899,\n",
       "       -0.03229037, -0.03337791, -0.03340553, -0.03558194, -0.02655857,\n",
       "       -0.03713993, -0.03653128, -0.03534558, -0.02171347, -0.02914057,\n",
       "       -0.02056272, -0.03949954, -0.03829693,  0.01729694,  0.09700482,\n",
       "       -0.02364681, -0.17897865, -0.10770027,  0.11644141,  0.12434921,\n",
       "       -0.13572349, -0.15808702, -0.024307  , -0.00870537, -0.02368886,\n",
       "       -0.01467558, -0.00758817, -0.04057052, -0.04842154, -0.04244976,\n",
       "       -0.04397259, -0.03101039, -0.03176983, -0.02708853, -0.03193333,\n",
       "       -0.02539138, -0.01982498, -0.04367402, -0.02035597, -0.03553233,\n",
       "       -0.04005635,  0.03093076,  0.05002435, -0.09419823, -0.22517501,\n",
       "       -0.13762577,  0.11378754,  0.04520649, -0.21690375, -0.12604372,\n",
       "       -0.00712402, -0.00421913, -0.00711012,  0.01438243,  0.01049444,\n",
       "       -0.02989582, -0.02692095, -0.02265075, -0.00786141, -0.01245041,\n",
       "       -0.02773721, -0.03479809, -0.04903112, -0.04131408, -0.0458649 ,\n",
       "       -0.03249722, -0.03103183, -0.06129258, -0.05134197,  0.03675341,\n",
       "        0.0043264 , -0.14926952, -0.23152268, -0.04827835,  0.15792231,\n",
       "       -0.01821886, -0.15885025, -0.05660482, -0.00502584, -0.03201625,\n",
       "       -0.0194113 , -0.01416228, -0.01733214, -0.00193407, -0.02564242,\n",
       "       -0.02093505, -0.00937071, -0.02297137, -0.05613896, -0.02530305,\n",
       "       -0.0537597 , -0.0224549 , -0.04214425, -0.0227623 , -0.04754861,\n",
       "       -0.05839325, -0.00028492,  0.05167639,  0.02958041, -0.1254179 ,\n",
       "       -0.14024267,  0.04488659,  0.14437313, -0.0248311 , -0.06621452,\n",
       "        0.02538721,  0.03310269, -0.03348877, -0.06813884, -0.06239367,\n",
       "       -0.00803958,  0.00039344, -0.0103516 ,  0.00272643, -0.02017004,\n",
       "       -0.02186041, -0.02443413, -0.03703224, -0.02446528, -0.04543104,\n",
       "       -0.0331727 , -0.0172852 , -0.03543792, -0.05989717,  0.00483124,\n",
       "        0.05732503,  0.04978213, -0.05857164, -0.07810143,  0.04036765,\n",
       "        0.04733068, -0.03640394,  0.03603409,  0.07720285,  0.02594805,\n",
       "       -0.07934844, -0.1196284 , -0.06152307, -0.00079812,  0.04126982,\n",
       "        0.01311174, -0.03119442, -0.0173326 , -0.02409286, -0.02915795,\n",
       "       -0.02758766, -0.04852893, -0.0395585 , -0.03664514, -0.02696121,\n",
       "       -0.03963583, -0.03135113, -0.03470489,  0.02522506,  0.00637673,\n",
       "       -0.05405463, -0.04893276,  0.03142398, -0.02491485,  0.00080931,\n",
       "        0.03455439,  0.03697561, -0.07141653, -0.12925112, -0.13409148,\n",
       "       -0.04520108,  0.02908687,  0.04372967,  0.00424455, -0.01186952,\n",
       "       -0.02262217, -0.04084003, -0.04550572, -0.03524763, -0.04539189,\n",
       "       -0.04020057, -0.04229035, -0.02675883, -0.0182731 , -0.02620656,\n",
       "       -0.05164808, -0.0558672 , -0.06528635, -0.07859421, -0.03908079,\n",
       "       -0.00871259, -0.06602078, -0.06572319, -0.00832822, -0.05545782,\n",
       "       -0.11671263, -0.13343498, -0.07192286, -0.00763478,  0.03432231,\n",
       "        0.03955254,  0.01210431,  0.00495201, -0.02625566, -0.03147928,\n",
       "       -0.02504898, -0.03307841, -0.0372649 , -0.04843281, -0.03756402,\n",
       "       -0.02232071, -0.02488867, -0.01262107, -0.03011595, -0.06682482,\n",
       "       -0.07733965, -0.06051039, -0.01909985, -0.00526861, -0.07763257,\n",
       "       -0.08518664, -0.03121426, -0.01129035, -0.06379723, -0.03066212,\n",
       "        0.00054656,  0.00983746,  0.0341582 ,  0.03131638,  0.02531606,\n",
       "       -0.01976328, -0.02736547, -0.04013265, -0.02095793, -0.03431066,\n",
       "       -0.03112075, -0.03283277, -0.03794271, -0.01817232,  0.01442415,\n",
       "        0.01885995,  0.01219615, -0.03443784, -0.04820326, -0.00902278,\n",
       "        0.0242859 ,  0.01881311, -0.01489451,  0.03159972,  0.04975459,\n",
       "        0.07903538,  0.04863043,  0.04665255,  0.02255463,  0.01391025,\n",
       "        0.00561503,  0.00498716, -0.02034706, -0.02060161, -0.02826359,\n",
       "       -0.03352531, -0.04089114, -0.05731237, -0.04438141, -0.04697104,\n",
       "       -0.00200204, -0.0281488 , -0.02439682, -0.00154714,  0.02280724,\n",
       "       -0.01727581, -0.01855111, -0.01547628, -0.02939332, -0.01448573,\n",
       "       -0.02882674, -0.01013795,  0.0137377 ,  0.0267573 ,  0.04708117,\n",
       "        0.01702563,  0.01955103, -0.00793801, -0.00881394, -0.02947704,\n",
       "       -0.01988691, -0.02656318, -0.05768024, -0.02722791, -0.04249   ,\n",
       "       -0.0173936 , -0.04776173, -0.05628407, -0.02894301, -0.0299644 ,\n",
       "       -0.03402019, -0.02607452, -0.0128604 , -0.0084263 , -0.00720501,\n",
       "       -0.01308962, -0.05590689, -0.06131022, -0.04227838, -0.04169464,\n",
       "       -0.03827389, -0.02262301, -0.02785021, -0.0133688 , -0.0186452 ,\n",
       "       -0.0228982 , -0.03465493, -0.02149818, -0.04061614, -0.03092013,\n",
       "       -0.03424888, -0.02891426, -0.02884639, -0.04759593, -0.03761126,\n",
       "       -0.03241332, -0.04494613, -0.04268567, -0.0198244 , -0.02266886,\n",
       "       -0.01938028, -0.00276765, -0.01566345, -0.02377983, -0.03404934,\n",
       "       -0.02260646, -0.01662793, -0.01966457, -0.03147795, -0.01302674,\n",
       "       -0.02848918, -0.02029901, -0.01703777, -0.02887974, -0.01893078,\n",
       "       -0.037261  , -0.04866446, -0.04027859, -0.03623112, -0.02879448,\n",
       "       -0.04486344, -0.02566214, -0.03216744, -0.02910455, -0.02693207,\n",
       "       -0.03441604, -0.04615435, -0.04258043, -0.03313997, -0.0348122 ,\n",
       "       -0.03118769, -0.02977066, -0.03269085, -0.02013691, -0.01175691,\n",
       "        0.0035068 , -0.00714076, -0.00456268, -0.02627173,  0.00168646,\n",
       "       -0.02479785, -0.02116824, -0.03748778, -0.03458273, -0.0359752 ,\n",
       "       -0.04667611, -0.02318938, -0.02587227, -0.06197984], dtype=float32)"
      ]
     },
     "execution_count": 23,
     "metadata": {},
     "output_type": "execute_result"
    }
   ],
   "source": [
    "weights[0]"
   ]
  },
  {
   "cell_type": "code",
   "execution_count": 27,
   "metadata": {
    "collapsed": true
   },
   "outputs": [],
   "source": [
    "x=weights.reshape(490000)"
   ]
  },
  {
   "cell_type": "code",
   "execution_count": 29,
   "metadata": {},
   "outputs": [
    {
     "name": "stdout",
     "output_type": "stream",
     "text": [
      "DescribeResult(nobs=490000, minmax=(-1.3555261, 1.6560781), mean=-0.040001076, variance=0.014604303, skewness=-0.27826669812202454, kurtosis=10.689166725140153)\n"
     ]
    }
   ],
   "source": [
    "print (stats.describe(x))"
   ]
  },
  {
   "cell_type": "code",
   "execution_count": 33,
   "metadata": {},
   "outputs": [
    {
     "data": {
      "text/plain": [
       "<matplotlib.axes._subplots.AxesSubplot at 0x1786afe48>"
      ]
     },
     "execution_count": 33,
     "metadata": {},
     "output_type": "execute_result"
    },
    {
     "data": {
      "image/png": "[encoded data removed]",
      "text/plain": [
       "<matplotlib.figure.Figure at 0x18e7bd6a0>"
      ]
     },
     "metadata": {},
     "output_type": "display_data"
    }
   ],
   "source": [
    "sns.distplot(x)"
   ]
  },
  {
   "cell_type": "code",
   "execution_count": 56,
   "metadata": {
    "collapsed": true
   },
   "outputs": [],
   "source": [
    "# Prune\n",
    "\n",
    "i = []\n",
    "\n",
    "for w in x:\n",
    "    if w < 0.1 and w > -0.1:\n",
    "        w=0\n",
    "        \n",
    "    else:\n",
    "        w=w\n",
    "    i.append(w)\n",
    "\n",
    "i=np.array(i).reshape(625, 784)\n",
    "\n",
    "w=torch.Tensor(i)\n",
    "\n",
    "#rbm.W=w"
   ]
  },
  {
   "cell_type": "code",
   "execution_count": 57,
   "metadata": {},
   "outputs": [
    {
     "data": {
      "text/plain": [
       "\n",
       " 0.0000  0.0000  0.0000  ...   0.0000  0.0000  0.0000\n",
       " 0.0000  0.0000  0.0000  ...   0.0000  0.0000  0.0000\n",
       " 0.0000  0.0000  0.0000  ...   0.0000  0.0000  0.0000\n",
       "          ...             ⋱             ...          \n",
       " 0.0000  0.0000  0.0000  ...   0.0000  0.0000  0.0000\n",
       " 0.0000  0.0000  0.0000  ...   0.0000  0.0000  0.0000\n",
       " 0.0000  0.0000  0.0000  ...   0.0000  0.0000  0.0000\n",
       "[torch.FloatTensor of size 625x784]"
      ]
     },
     "execution_count": 57,
     "metadata": {},
     "output_type": "execute_result"
    }
   ],
   "source": [
    "w"
   ]
  },
  {
   "cell_type": "code",
   "execution_count": 58,
   "metadata": {
    "collapsed": true
   },
   "outputs": [],
   "source": [
    "o=torch.nn.Parameter(w)\n",
    "rbm.W=o"
   ]
  },
  {
   "cell_type": "code",
   "execution_count": null,
   "metadata": {
    "collapsed": true
   },
   "outputs": [],
   "source": []
  },
  {
   "cell_type": "code",
   "execution_count": 85,
   "metadata": {
    "collapsed": true
   },
   "outputs": [],
   "source": [
    "# Quantise\n",
    "\n",
    "q=[]\n",
    "\n",
    "for w in x:\n",
    "    if w > 0.05:\n",
    "        w=float(1)\n",
    "    elif w<-0.05:\n",
    "        w=float(-1)\n",
    "    else:\n",
    "        w=float(0)\n",
    "    q.append(w)"
   ]
  },
  {
   "cell_type": "code",
   "execution_count": 86,
   "metadata": {
    "collapsed": true
   },
   "outputs": [],
   "source": [
    "q=np.array(q).reshape(625, 784)\n",
    "w=torch.Tensor(q)\n",
    "w=torch.nn.Parameter(w)\n",
    "rbm.W=w\n"
   ]
  },
  {
   "cell_type": "code",
   "execution_count": null,
   "metadata": {
    "collapsed": true
   },
   "outputs": [],
   "source": []
  }
 ],
 "metadata": {
  "kernelspec": {
   "display_name": "Python [default]",
   "language": "python",
   "name": "python3"
  },
  "language_info": {
   "codemirror_mode": {
    "name": "ipython",
    "version": 3
   },
   "file_extension": ".py",
   "mimetype": "text/x-python",
   "name": "python",
   "nbconvert_exporter": "python",
   "pygments_lexer": "ipython3",
   "version": "3.5.3"
  }
 },
 "nbformat": 4,
 "nbformat_minor": 2
}
